{
 "cells": [
  {
   "cell_type": "code",
   "execution_count": 3,
   "metadata": {},
   "outputs": [
    {
     "name": "stdout",
     "output_type": "stream",
     "text": [
      "10\n",
      "385.0\n",
      "3025.0\n"
     ]
    }
   ],
   "source": [
    "n=int(input())\n",
    "x=(n*(n+1)*(2*n+1))/6\n",
    "print(x)\n",
    "y=((n*(n+1))/2)*((n*(n+1))/2)\n",
    "print(y)"
   ]
  },
  {
   "cell_type": "code",
   "execution_count": 5,
   "metadata": {},
   "outputs": [
    {
     "name": "stdout",
     "output_type": "stream",
     "text": [
      "3\n",
      "acm is best\n"
     ]
    }
   ],
   "source": [
    "x=int(input())\n",
    "y=n%2\n",
    "if y==1 :\n",
    "    print('Iam best')\n",
    "if y==0:\n",
    "    if x>2 and x<5 :\n",
    "        print('acm is best')\n",
    "    elif x>6 and x<20 :\n",
    "        print('gmrit is best')\n",
    "    elif x>20 :\n",
    "        print('iam best')"
   ]
  },
  {
   "cell_type": "code",
   "execution_count": 12,
   "metadata": {},
   "outputs": [
    {
     "name": "stdout",
     "output_type": "stream",
     "text": [
      "40\n"
     ]
    }
   ],
   "source": [
    "x=[20,30,40,50]\n",
    "y=max(x)\n",
    "x.remove(y)\n",
    "print(max(x))"
   ]
  },
  {
   "cell_type": "code",
   "execution_count": 16,
   "metadata": {},
   "outputs": [
    {
     "name": "stdout",
     "output_type": "stream",
     "text": [
      "{'apple', 'orange', 'banana', 'carrot'}\n",
      "{'tomato'}\n",
      "{'orange', 'carrot', 'banana', 'tomato', 'apple', 'potato', 'brinjal'}\n"
     ]
    }
   ],
   "source": [
    "a={\"apple\",\"banana\",\"tomato\",\"carrot\",\"orange\"}\n",
    "b={\"potato\",\"tomato\",\"brinjal\"}\n",
    "print(a.difference(b))\n",
    "print(a.intersection(b))\n",
    "print(a.union(b))"
   ]
  },
  {
   "cell_type": "code",
   "execution_count": null,
   "metadata": {},
   "outputs": [],
   "source": []
  }
 ],
 "metadata": {
  "kernelspec": {
   "display_name": "Python 3",
   "language": "python",
   "name": "python3"
  },
  "language_info": {
   "codemirror_mode": {
    "name": "ipython",
    "version": 3
   },
   "file_extension": ".py",
   "mimetype": "text/x-python",
   "name": "python",
   "nbconvert_exporter": "python",
   "pygments_lexer": "ipython3",
   "version": "3.7.3"
  }
 },
 "nbformat": 4,
 "nbformat_minor": 2
}
